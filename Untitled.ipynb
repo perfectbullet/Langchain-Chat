{
 "cells": [
  {
   "cell_type": "code",
   "execution_count": 1,
   "id": "87ff9324-fbce-4d05-9394-88249cf7f5c3",
   "metadata": {},
   "outputs": [],
   "source": [
    "import pandas"
   ]
  },
  {
   "cell_type": "code",
   "execution_count": 10,
   "id": "e12a99ea-30c7-449f-b753-78085f4359cc",
   "metadata": {},
   "outputs": [
    {
     "name": "stdout",
     "output_type": "stream",
     "text": [
      "question_id,question,answer\n",
      "\n"
     ]
    }
   ],
   "source": [
    "import csv\n",
    "\n",
    "file = open('merged_data.csv', 'r', encoding = \"gbk\")\n",
    "\n",
    "# create a dictionary of rows\n",
    "rows = {}\n",
    "\n",
    "# read the CSV file and populate the dictionary\n",
    "for line in file:\n",
    "    print(line)\n",
    "    \n",
    "\n",
    "    # rows[row[0]] = row[1]\n",
    "    \n",
    "\n",
    "# do something with the dictionary\n",
    "\n",
    "# file.close()\n",
    "\n",
    "# # save the dictionary to a text file\n",
    "# with open('example.txt', 'w', delimiter=',') as new_file:\n",
    "#     for name, value in rows.items():\n",
    "#         new_file.write(f'{name}={value}\\n')"
   ]
  },
  {
   "cell_type": "code",
   "execution_count": null,
   "id": "2a34ccfd-e6d3-48b6-a214-9f2fc788049d",
   "metadata": {},
   "outputs": [],
   "source": []
  }
 ],
 "metadata": {
  "kernelspec": {
   "display_name": "Python 3 (ipykernel)",
   "language": "python",
   "name": "python3"
  },
  "language_info": {
   "codemirror_mode": {
    "name": "ipython",
    "version": 3
   },
   "file_extension": ".py",
   "mimetype": "text/x-python",
   "name": "python",
   "nbconvert_exporter": "python",
   "pygments_lexer": "ipython3",
   "version": "3.8.10"
  }
 },
 "nbformat": 4,
 "nbformat_minor": 5
}
